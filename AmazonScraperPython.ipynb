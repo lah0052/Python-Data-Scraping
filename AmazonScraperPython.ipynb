{
 "cells": [
  {
   "cell_type": "code",
   "execution_count": 87,
   "id": "96aed9a0-276b-4720-9a97-be2e05d5ac52",
   "metadata": {},
   "outputs": [],
   "source": [
    "#import libraries\n",
    "from bs4 import BeautifulSoup\n",
    "import requests\n",
    "import smtplib\n",
    "import time\n",
    "import datetime\n",
    "import csv\n",
    "import datetime\n",
    "import pandas as pd"
   ]
  },
  {
   "cell_type": "code",
   "execution_count": 69,
   "id": "dedd9e0b-849a-4291-ad3b-4c82eec6f08b",
   "metadata": {},
   "outputs": [
    {
     "name": "stdout",
     "output_type": "stream",
     "text": [
      "\n",
      "                    Funny Got Data MIS Data Systems Business Analyst T-Shirt\n",
      "                   \n",
      "\n",
      "                    $16.99\n",
      "                   \n"
     ]
    }
   ],
   "source": [
    "#connecting to the website and setting up the headers\n",
    "URL = 'https://www.amazon.com/Funny-Data-Systems-Business-Analyst/dp/B07FNW9FGJ/ref=sr_1_3?dchild=1&keywords=data%2Banalyst%2Btshirt&qid=1626655184&sr=8-3&customId=B0752XJYNL&th=1'\n",
    "headers = {\"User-Agent\": \"Mozilla/5.0 (Windows NT 10.0; Win64; x64) AppleWebKit/537.36 (KHTML, like Gecko) Chrome/125.0.0.0 Safari/537.36 Edg/125.0.0.0\", \"Accept-Encoding\": \"gzip, deflate, br, zstd\", \"Accept\": \"text/html,application/xhtml+xml,application/xml;q=0.9,image/avif,image/webp,image/apng,*/*;q=0.8,application/signed-exchange;v=b3;q=0.7\", \"DNT\":\"1\",\"Connection\":\"close\", \"Upgrade-Insecure-Requests\":\"1\"}\n",
    "\n",
    "#setting up the page so we can parse through it and then pulling the title and price\n",
    "page = requests.get(URL, headers=headers)\n",
    "soup1 = BeautifulSoup(page.content, \"html.parser\")\n",
    "soup2 = BeautifulSoup(soup1.prettify(), \"html.parser\")\n",
    "title = soup2.find(id='productTitle').get_text()\n",
    "price = soup2.find(class_ = 'aok-offscreen').get_text()\n",
    "\n",
    "print(title)\n",
    "print(price)"
   ]
  },
  {
   "cell_type": "code",
   "execution_count": 77,
   "id": "20f09610-19f7-4cf5-9446-6eb5824030c0",
   "metadata": {},
   "outputs": [
    {
     "name": "stdout",
     "output_type": "stream",
     "text": [
      "Funny Got Data MIS Data Systems Business Analyst T-Shirt\n",
      "16.99\n"
     ]
    }
   ],
   "source": [
    "#removing the whitespice from the sides of the title\n",
    "title = title.strip()\n",
    "#removing the whitespace and the $ from the price. [1:] gets everything after the first index\n",
    "price = price.strip()[1:]\n",
    "\n",
    "print(title)\n",
    "print(price)"
   ]
  },
  {
   "cell_type": "code",
   "execution_count": 83,
   "id": "5123eb6f-cfee-4dbc-8297-6e952e1bfa94",
   "metadata": {},
   "outputs": [
    {
     "name": "stdout",
     "output_type": "stream",
     "text": [
      "2024-06-11\n"
     ]
    }
   ],
   "source": [
    "#getting the current day so we can time stamp when we got the data\n",
    "today = datetime.date.today()\n",
    "print(today)"
   ]
  },
  {
   "cell_type": "code",
   "execution_count": 85,
   "id": "2ee16e43-1346-4fe1-bd30-ca385646162c",
   "metadata": {},
   "outputs": [],
   "source": [
    "#setting up the csv, column titles and the data going into them\n",
    "header = ['Title', 'Price', 'Date']\n",
    "data = [title,price, today]\n",
    "\n",
    "#creates csv and puts in the the data we specified\n",
    "#with open('AmazonScraperPythonDataset.csv', 'w', newline = '', encoding = 'UTF8') as f:\n",
    "   # writer = csv.writer(f)\n",
    "   # writer.writerow(header)\n",
    "   # writer.writerow(data)\n",
    "    "
   ]
  },
  {
   "cell_type": "code",
   "execution_count": 91,
   "id": "04a5319d-05a3-4c8c-800d-eeb62533a910",
   "metadata": {},
   "outputs": [
    {
     "name": "stdout",
     "output_type": "stream",
     "text": [
      "                                               Title  Price        Date\n",
      "0  Funny Got Data MIS Data Systems Business Analy...  16.99  2024-06-11\n"
     ]
    }
   ],
   "source": [
    "#accessing the data and printing it using pandas\n",
    "df = pd.read_csv(r'C:\\Users\\Lhalstead\\AmazonScraperPythonDataset.csv')\n",
    "print(df)"
   ]
  },
  {
   "cell_type": "code",
   "execution_count": null,
   "id": "48e48774-ecf3-4cd0-a3ab-985373c2e16d",
   "metadata": {},
   "outputs": [],
   "source": [
    "#appending the data\n",
    "with open('AmazonScraperPythonDataset.csv', 'a+', newline = '', encoding = 'UTF8') as f:\n",
    "    writer = csv.writer(f)\n",
    "    writer.writerow(data)"
   ]
  },
  {
   "cell_type": "code",
   "execution_count": 95,
   "id": "be38650a-5f17-4ae5-b718-88ea1d147c8b",
   "metadata": {},
   "outputs": [],
   "source": [
    "#makeing a function that checks the price of the shirt daily and adds a new row\n",
    "def check_price():\n",
    "    #connecting to the website and setting up the headers\n",
    "    URL = 'https://www.amazon.com/Funny-Data-Systems-Business-Analyst/dp/B07FNW9FGJ/ref=sr_1_3?dchild=1&keywords=data%2Banalyst%2Btshirt&qid=1626655184&sr=8-3&customId=B0752XJYNL&th=1'\n",
    "    headers = {\"User-Agent\": \"Mozilla/5.0 (Windows NT 10.0; Win64; x64) AppleWebKit/537.36 (KHTML, like Gecko) Chrome/125.0.0.0 Safari/537.36 Edg/125.0.0.0\", \"Accept-Encoding\": \"gzip, deflate, br, zstd\", \"Accept\": \"text/html,application/xhtml+xml,application/xml;q=0.9,image/avif,image/webp,image/apng,*/*;q=0.8,application/signed-exchange;v=b3;q=0.7\", \"DNT\":\"1\",\"Connection\":\"close\", \"Upgrade-Insecure-Requests\":\"1\"}\n",
    "    \n",
    "    #setting up the page so we can parse through it and then pulling the title and price\n",
    "    page = requests.get(URL, headers=headers)\n",
    "    soup1 = BeautifulSoup(page.content, \"html.parser\")\n",
    "    soup2 = BeautifulSoup(soup1.prettify(), \"html.parser\")\n",
    "    title = soup2.find(id='productTitle').get_text()\n",
    "    price = soup2.find(class_ = 'aok-offscreen').get_text()\n",
    "\n",
    "    #removing the whitespice from the sides of the title\n",
    "    title = title.strip()\n",
    "    #removing the whitespace and the $ from the price. [1:] gets everything after the first index\n",
    "    price = price.strip()[1:]\n",
    "\n",
    "    #getting the current day so we can time stamp when we got the data\n",
    "    today = datetime.date.today()\n",
    "    print(today)\n",
    "    \n",
    "    #setting up the csv, column titles and the data going into them\n",
    "    header = ['Title', 'Price', 'Date']\n",
    "    data = [title,price, today]\n",
    "\n",
    "    #appending the data\n",
    "    with open('AmazonScraperPythonDataset.csv', 'a+', newline = '', encoding = 'UTF8') as f:\n",
    "        writer = csv.writer(f)\n",
    "        writer.writerow(data)"
   ]
  },
  {
   "cell_type": "code",
   "execution_count": 97,
   "id": "24ef73c7-b195-4b20-a193-31aba9c0439b",
   "metadata": {},
   "outputs": [
    {
     "name": "stdout",
     "output_type": "stream",
     "text": [
      "2024-06-11\n",
      "2024-06-11\n",
      "2024-06-11\n",
      "2024-06-11\n",
      "2024-06-11\n",
      "2024-06-11\n"
     ]
    },
    {
     "ename": "KeyboardInterrupt",
     "evalue": "",
     "output_type": "error",
     "traceback": [
      "\u001b[1;31m---------------------------------------------------------------------------\u001b[0m",
      "\u001b[1;31mKeyboardInterrupt\u001b[0m                         Traceback (most recent call last)",
      "Cell \u001b[1;32mIn[97], line 3\u001b[0m\n\u001b[0;32m      1\u001b[0m \u001b[38;5;28;01mwhile\u001b[39;00m(\u001b[38;5;28;01mTrue\u001b[39;00m):\n\u001b[0;32m      2\u001b[0m     check_price()\n\u001b[1;32m----> 3\u001b[0m     time\u001b[38;5;241m.\u001b[39msleep(\u001b[38;5;241m5\u001b[39m)\n",
      "\u001b[1;31mKeyboardInterrupt\u001b[0m: "
     ]
    }
   ],
   "source": [
    "'''\n",
    "ran for 30 seconds at a 5 second interval which added 6 new rows\n",
    "changed it to once a day after\n",
    "'''\n",
    "while(True):\n",
    "    check_price()\n",
    "    time.sleep(86400)"
   ]
  },
  {
   "cell_type": "code",
   "execution_count": 100,
   "id": "7d95c68f-be00-460a-9f62-0d083c806464",
   "metadata": {},
   "outputs": [
    {
     "name": "stdout",
     "output_type": "stream",
     "text": [
      "                                               Title  Price        Date\n",
      "0  Funny Got Data MIS Data Systems Business Analy...  16.99  2024-06-11\n",
      "1  Funny Got Data MIS Data Systems Business Analy...  16.99  2024-06-11\n",
      "2  Funny Got Data MIS Data Systems Business Analy...  16.99  2024-06-11\n",
      "3  Funny Got Data MIS Data Systems Business Analy...  16.99  2024-06-11\n",
      "4  Funny Got Data MIS Data Systems Business Analy...  16.99  2024-06-11\n",
      "5  Funny Got Data MIS Data Systems Business Analy...  16.99  2024-06-11\n",
      "6  Funny Got Data MIS Data Systems Business Analy...  16.99  2024-06-11\n"
     ]
    }
   ],
   "source": [
    "df = pd.read_csv(r'C:\\Users\\Lhalstead\\AmazonScraperPythonDataset.csv')\n",
    "print(df)"
   ]
  },
  {
   "cell_type": "code",
   "execution_count": null,
   "id": "06eb7dd1-9429-4e73-9ec0-bc95a3e71df5",
   "metadata": {},
   "outputs": [],
   "source": []
  }
 ],
 "metadata": {
  "kernelspec": {
   "display_name": "Python 3 (ipykernel)",
   "language": "python",
   "name": "python3"
  },
  "language_info": {
   "codemirror_mode": {
    "name": "ipython",
    "version": 3
   },
   "file_extension": ".py",
   "mimetype": "text/x-python",
   "name": "python",
   "nbconvert_exporter": "python",
   "pygments_lexer": "ipython3",
   "version": "3.11.9"
  }
 },
 "nbformat": 4,
 "nbformat_minor": 5
}
